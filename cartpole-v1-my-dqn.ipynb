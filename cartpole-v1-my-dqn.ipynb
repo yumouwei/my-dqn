{
 "cells": [
  {
   "cell_type": "markdown",
   "id": "80b2fec0",
   "metadata": {},
   "source": [
    "# 1. Setup environment"
   ]
  },
  {
   "cell_type": "code",
   "execution_count": null,
   "id": "7f1c7553",
   "metadata": {},
   "outputs": [],
   "source": [
    "import gym \n",
    "import os\n",
    "import time "
   ]
  },
  {
   "cell_type": "code",
   "execution_count": null,
   "id": "d9188759",
   "metadata": {},
   "outputs": [],
   "source": [
    "env = gym.make('CartPole-v1')"
   ]
  },
  {
   "cell_type": "code",
   "execution_count": null,
   "id": "5816631b",
   "metadata": {},
   "outputs": [],
   "source": [
    "done = True\n",
    "for i in range(150):\n",
    "    if done:\n",
    "        #env.seed(222)\n",
    "        state = env.reset()\n",
    "    state, reward, done, info = env.step(env.action_space.sample())\n",
    "    env.render()"
   ]
  },
  {
   "cell_type": "markdown",
   "id": "f66f5bf7",
   "metadata": {},
   "source": [
    "# 2. Setup DQN Agent"
   ]
  },
  {
   "cell_type": "code",
   "execution_count": null,
   "id": "0a5f4d72",
   "metadata": {},
   "outputs": [],
   "source": [
    "MODEL_DIR = './models/'"
   ]
  },
  {
   "cell_type": "code",
   "execution_count": null,
   "id": "91708ed1",
   "metadata": {},
   "outputs": [],
   "source": [
    "from my_dqn_agent import MyDQNAgent, MyDoubleDQNAgent"
   ]
  },
  {
   "cell_type": "code",
   "execution_count": null,
   "id": "40c45842",
   "metadata": {},
   "outputs": [],
   "source": [
    "#model = MyDQNAgent(env, max_grad_norm=10, buffer_size=1e3, learning_rate=1e-3)  # loss prone to explode\n",
    "model = MyDoubleDQNAgent(env, max_grad_norm=10, buffer_size=1000, learning_start=500, \n",
    "                         train_freq=4, learning_rate=1e-3, target_update_interval=100)"
   ]
  },
  {
   "cell_type": "code",
   "execution_count": null,
   "id": "29eed671",
   "metadata": {},
   "outputs": [],
   "source": [
    "# evaluate untrained agent\n",
    "model.evaluate(n_episode=10, render=False)"
   ]
  },
  {
   "cell_type": "markdown",
   "id": "46973194",
   "metadata": {},
   "source": [
    "# 3. Train DQN Agent"
   ]
  },
  {
   "cell_type": "code",
   "execution_count": null,
   "id": "db145336",
   "metadata": {
    "scrolled": true
   },
   "outputs": [],
   "source": [
    "t_start = time.time()\n",
    "\n",
    "model.learn(total_timesteps=40000, save_freq=1000, save_path=MODEL_DIR)\n",
    "\n",
    "t_elapsed = time.time() - t_start"
   ]
  },
  {
   "cell_type": "code",
   "execution_count": null,
   "id": "dde3076d",
   "metadata": {},
   "outputs": [],
   "source": [
    "print(str(t_elapsed/60) + ' min') # Took about 22 minutes to train on M1 Macbook Air"
   ]
  },
  {
   "cell_type": "markdown",
   "id": "d037810d",
   "metadata": {},
   "source": [
    "# 4. Save and load model"
   ]
  },
  {
   "cell_type": "code",
   "execution_count": null,
   "id": "87adf82c",
   "metadata": {},
   "outputs": [],
   "source": [
    "# save model\n",
    "model_path = os.path.join(MODEL_DIR, 'new_model.h5')\n",
    "model.save_network(model_path)"
   ]
  },
  {
   "cell_type": "code",
   "execution_count": null,
   "id": "97fc0b92",
   "metadata": {},
   "outputs": [],
   "source": [
    "del model"
   ]
  },
  {
   "cell_type": "code",
   "execution_count": null,
   "id": "c3fbf570",
   "metadata": {},
   "outputs": [],
   "source": [
    "# load model\n",
    "MODEL_DIR = './models/'# load model\n",
    "model_path = os.path.join(MODEL_DIR, 'cartpole-my-double-dqn-40k.h5')\n",
    "model.load_network(model_path)"
   ]
  },
  {
   "cell_type": "markdown",
   "id": "a7a4b00d",
   "metadata": {},
   "source": [
    "# 5. Test model"
   ]
  },
  {
   "cell_type": "code",
   "execution_count": null,
   "id": "82275885",
   "metadata": {},
   "outputs": [],
   "source": [
    "model.evaluate(n_episode=10, render=True) # use deterministic policy"
   ]
  }
 ],
 "metadata": {
  "kernelspec": {
   "display_name": "Python 3 (ipykernel)",
   "language": "python",
   "name": "python3"
  },
  "language_info": {
   "codemirror_mode": {
    "name": "ipython",
    "version": 3
   },
   "file_extension": ".py",
   "mimetype": "text/x-python",
   "name": "python",
   "nbconvert_exporter": "python",
   "pygments_lexer": "ipython3",
   "version": "3.9.13"
  }
 },
 "nbformat": 4,
 "nbformat_minor": 5
}
